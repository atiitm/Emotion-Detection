{
 "cells": [
  {
   "cell_type": "markdown",
   "id": "30e4f4f8-bd8e-4e4b-ba6f-a584e66ad5dd",
   "metadata": {},
   "source": [
    "# Human Emotions classifier"
   ]
  },
  {
   "cell_type": "code",
   "execution_count": 10,
   "id": "e489fc98-8aee-478d-b53f-5166e02c42ff",
   "metadata": {},
   "outputs": [],
   "source": [
    "import csv"
   ]
  },
  {
   "cell_type": "code",
   "execution_count": 11,
   "id": "afca28cb-2485-4265-a9b7-540b4013dc51",
   "metadata": {},
   "outputs": [],
   "source": [
    "input_file = 'D:\\\\Jupyter\\\\tfidf_ex\\\\train.txt'\n",
    "output_file = 'emotions.csv'"
   ]
  },
  {
   "cell_type": "code",
   "execution_count": 12,
   "id": "ab0a0c3f-4444-49e8-8865-077562e050a1",
   "metadata": {},
   "outputs": [],
   "source": [
    "with open(input_file,'r') as f:\n",
    "    sentences = f.readlines()"
   ]
  },
  {
   "cell_type": "code",
   "execution_count": 13,
   "id": "493cb051-f751-4938-b7a1-c1d60b907753",
   "metadata": {},
   "outputs": [],
   "source": [
    "with open(output_file,'w') as csv_file:\n",
    "    writer = csv.writer(csv_file)\n",
    "    writer.writerow(['text', 'emotion'])\n",
    "\n",
    "    for sentence in sentences:\n",
    "        # Split the sentence by ';'\n",
    "        columns = sentence.strip().split(';')\n",
    "        # Write the columns to the CSV file\n",
    "        writer.writerow(columns)"
   ]
  },
  {
   "cell_type": "code",
   "execution_count": 2,
   "id": "6f42c327-877a-40c8-a759-ecf1f864ec1f",
   "metadata": {},
   "outputs": [],
   "source": [
    "import pandas as pd"
   ]
  },
  {
   "cell_type": "code",
   "execution_count": 3,
   "id": "7dbe8989-304d-4db6-9766-16d22b910587",
   "metadata": {},
   "outputs": [
    {
     "data": {
      "text/plain": [
       "(16000, 2)"
      ]
     },
     "execution_count": 3,
     "metadata": {},
     "output_type": "execute_result"
    }
   ],
   "source": [
    "df = pd.read_csv(\"emotions.csv\")\n",
    "df.shape\n"
   ]
  },
  {
   "cell_type": "code",
   "execution_count": 21,
   "id": "1c4a84e6-1bfa-452b-86d1-a70478446779",
   "metadata": {},
   "outputs": [
    {
     "name": "stdout",
     "output_type": "stream",
     "text": [
      "emotion\n",
      "joy         5362\n",
      "sadness     4666\n",
      "anger       2159\n",
      "fear        1937\n",
      "love        1304\n",
      "surprise     572\n",
      "Name: count, dtype: int64\n"
     ]
    },
    {
     "data": {
      "text/html": [
       "<div>\n",
       "<style scoped>\n",
       "    .dataframe tbody tr th:only-of-type {\n",
       "        vertical-align: middle;\n",
       "    }\n",
       "\n",
       "    .dataframe tbody tr th {\n",
       "        vertical-align: top;\n",
       "    }\n",
       "\n",
       "    .dataframe thead th {\n",
       "        text-align: right;\n",
       "    }\n",
       "</style>\n",
       "<table border=\"1\" class=\"dataframe\">\n",
       "  <thead>\n",
       "    <tr style=\"text-align: right;\">\n",
       "      <th></th>\n",
       "      <th>text</th>\n",
       "      <th>emotion</th>\n",
       "      <th>emotion_num</th>\n",
       "    </tr>\n",
       "  </thead>\n",
       "  <tbody>\n",
       "    <tr>\n",
       "      <th>0</th>\n",
       "      <td>i didnt feel humiliated</td>\n",
       "      <td>sadness</td>\n",
       "      <td>1</td>\n",
       "    </tr>\n",
       "    <tr>\n",
       "      <th>1</th>\n",
       "      <td>i can go from feeling so hopeless to so damned...</td>\n",
       "      <td>sadness</td>\n",
       "      <td>1</td>\n",
       "    </tr>\n",
       "    <tr>\n",
       "      <th>2</th>\n",
       "      <td>im grabbing a minute to post i feel greedy wrong</td>\n",
       "      <td>anger</td>\n",
       "      <td>2</td>\n",
       "    </tr>\n",
       "    <tr>\n",
       "      <th>3</th>\n",
       "      <td>i am ever feeling nostalgic about the fireplac...</td>\n",
       "      <td>love</td>\n",
       "      <td>4</td>\n",
       "    </tr>\n",
       "    <tr>\n",
       "      <th>4</th>\n",
       "      <td>i am feeling grouchy</td>\n",
       "      <td>anger</td>\n",
       "      <td>2</td>\n",
       "    </tr>\n",
       "  </tbody>\n",
       "</table>\n",
       "</div>"
      ],
      "text/plain": [
       "                                                text  emotion  emotion_num\n",
       "0                            i didnt feel humiliated  sadness            1\n",
       "1  i can go from feeling so hopeless to so damned...  sadness            1\n",
       "2   im grabbing a minute to post i feel greedy wrong    anger            2\n",
       "3  i am ever feeling nostalgic about the fireplac...     love            4\n",
       "4                               i am feeling grouchy    anger            2"
      ]
     },
     "execution_count": 21,
     "metadata": {},
     "output_type": "execute_result"
    }
   ],
   "source": [
    "print(df['emotion'].value_counts())\n",
    "\n",
    "df['emotion_num'] = df['emotion'].map({\n",
    "    \"joy\"       :  0,\n",
    "    \"sadness\"   :  1,\n",
    "    \"anger\"    :   2,\n",
    "    \"fear\"     :   3,\n",
    "    \"love\"     :   4,\n",
    "    \"surprise\" :   5\n",
    "})\n",
    "\n",
    "df.head()"
   ]
  },
  {
   "cell_type": "code",
   "execution_count": 22,
   "id": "6f739903-2a23-42f7-b5c7-0e9293304b85",
   "metadata": {},
   "outputs": [],
   "source": [
    "from sklearn.model_selection import train_test_split\n",
    "X_train, X_test, y_train, y_test = train_test_split(\n",
    "    df.text,\n",
    "    df.emotion_num,\n",
    "    test_size=0.2,\n",
    "    stratify=df.emotion,\n",
    "    random_state=2022\n",
    ")"
   ]
  },
  {
   "cell_type": "code",
   "execution_count": 23,
   "id": "1ce17bb5-1c65-4ea9-9d48-79b51e664cb8",
   "metadata": {},
   "outputs": [
    {
     "data": {
      "text/plain": [
       "6373     i have really notcied is my mental clarity lik...\n",
       "12524    i feel loyal to him in some ways so respect hi...\n",
       "12962    i made for the bee has left me feeling pretty ...\n",
       "13404    i wrapped one child after another in a hug i r...\n",
       "8525     i like to feel that is exactly what i do for m...\n",
       "Name: text, dtype: object"
      ]
     },
     "execution_count": 23,
     "metadata": {},
     "output_type": "execute_result"
    }
   ],
   "source": [
    "X_train.head(5)"
   ]
  },
  {
   "cell_type": "code",
   "execution_count": 24,
   "id": "2a40eaf2-0ff9-41eb-8309-fb7c21c35d34",
   "metadata": {},
   "outputs": [
    {
     "data": {
      "text/plain": [
       "13454    i dont feel the need to be truthful its comple...\n",
       "7280     i will focus on either an infantry company or ...\n",
       "7413                          i am feeling a little lonely\n",
       "4381     i feel i am beyond pissed off disappointed fru...\n",
       "8534     i can pick at my skin for a while and make mys...\n",
       "Name: text, dtype: object"
      ]
     },
     "execution_count": 24,
     "metadata": {},
     "output_type": "execute_result"
    }
   ],
   "source": [
    "X_test.head(5)"
   ]
  },
  {
   "cell_type": "code",
   "execution_count": 25,
   "id": "d2982243-dc18-4f36-9b73-1267a61a8018",
   "metadata": {},
   "outputs": [
    {
     "data": {
      "text/plain": [
       "emotion_num\n",
       "0    4290\n",
       "1    3733\n",
       "2    1727\n",
       "3    1550\n",
       "4    1043\n",
       "5     457\n",
       "Name: count, dtype: int64"
      ]
     },
     "execution_count": 25,
     "metadata": {},
     "output_type": "execute_result"
    }
   ],
   "source": [
    "y_train.value_counts()"
   ]
  },
  {
   "cell_type": "code",
   "execution_count": 29,
   "id": "72728d1f-a429-4eff-b30d-9d6a9749a881",
   "metadata": {},
   "outputs": [],
   "source": [
    "min_samples = 1550\n",
    "df_joy = df[df.emotion == 'joy'].sample(min_samples,random_state = 2022)\n",
    "df_sadness = df[df.emotion == 'sadness'].sample(min_samples,random_state = 2022)\n",
    "df_anger = df[df.emotion == 'anger'].sample(min_samples,random_state = 2022)\n",
    "df_fear = df[df.emotion == 'fear'].sample(min_samples,random_state = 2022)"
   ]
  },
  {
   "cell_type": "code",
   "execution_count": 30,
   "id": "2058fefa-d149-41a1-bef5-91178782bbe6",
   "metadata": {},
   "outputs": [],
   "source": [
    "df_balanced = pd.concat([df_joy,df_sadness,df_anger,df_fear],axis = 0)"
   ]
  },
  {
   "cell_type": "code",
   "execution_count": 46,
   "id": "77de4643-cb5c-4609-8751-b0f0d13f2c69",
   "metadata": {},
   "outputs": [
    {
     "data": {
      "text/plain": [
       "emotion\n",
       "joy        1550\n",
       "sadness    1550\n",
       "anger      1550\n",
       "fear       1550\n",
       "Name: count, dtype: int64"
      ]
     },
     "execution_count": 46,
     "metadata": {},
     "output_type": "execute_result"
    }
   ],
   "source": [
    "df_balanced.emotion.value_counts()\n",
    "# df_balanced.head()"
   ]
  },
  {
   "cell_type": "code",
   "execution_count": 94,
   "id": "c594a2f7-ac20-4d23-bd24-aafb681e7dae",
   "metadata": {},
   "outputs": [],
   "source": [
    "from sklearn.model_selection import train_test_split\n",
    "X1_train, X1_test, y1_train, y1_test = train_test_split(\n",
    "    df_balanced.text,\n",
    "    df_balanced.emotion_num,\n",
    "    test_size=0.3,\n",
    "    stratify=df_balanced.emotion_num,\n",
    "    random_state=2022\n",
    ")"
   ]
  },
  {
   "cell_type": "code",
   "execution_count": 40,
   "id": "882fc478-85c2-487e-8375-2deaca5a659b",
   "metadata": {},
   "outputs": [
    {
     "data": {
      "text/plain": [
       "12980    i feel so eager for the rest of the photos to ...\n",
       "4350                         i feel irritated and helpless\n",
       "5093     i feel that i was damaged by gt gt gt religion...\n",
       "1923     i feel a bit uncertain really shes a nice girl...\n",
       "15599                           i feel triumphant and such\n",
       "Name: text, dtype: object"
      ]
     },
     "execution_count": 40,
     "metadata": {},
     "output_type": "execute_result"
    }
   ],
   "source": [
    "X1_train.head()"
   ]
  },
  {
   "cell_type": "code",
   "execution_count": 42,
   "id": "508a3c77-4507-476b-88b4-fd80463e300e",
   "metadata": {},
   "outputs": [
    {
     "data": {
      "text/plain": [
       "12980    0\n",
       "4350     2\n",
       "5093     1\n",
       "1923     3\n",
       "15599    0\n",
       "Name: emotion_num, dtype: int64"
      ]
     },
     "execution_count": 42,
     "metadata": {},
     "output_type": "execute_result"
    }
   ],
   "source": [
    "y1_train.head()"
   ]
  },
  {
   "cell_type": "code",
   "execution_count": 44,
   "id": "da614b44-7426-468a-8eb2-944c22526657",
   "metadata": {},
   "outputs": [
    {
     "data": {
      "text/plain": [
       "6649     i wish i knew how he was really feeling aside ...\n",
       "11165    im being a teenager people and if you feel the...\n",
       "5168     i now feel everythings been resolved were psyc...\n",
       "2485     i sat with dave atell at first trying not to f...\n",
       "520      i really lose a lot of my nesting homemaking i...\n",
       "Name: text, dtype: object"
      ]
     },
     "execution_count": 44,
     "metadata": {},
     "output_type": "execute_result"
    }
   ],
   "source": [
    "X1_test.head()"
   ]
  },
  {
   "cell_type": "code",
   "execution_count": 50,
   "id": "0498b0d8-4ab9-4e88-8d5a-e2572dea2b75",
   "metadata": {},
   "outputs": [],
   "source": [
    "from sklearn.feature_extraction.text import CountVectorizer\n",
    "from sklearn.ensemble import RandomForestClassifier\n",
    "from sklearn.pipeline import Pipeline\n",
    "from sklearn.metrics import classification_report"
   ]
  },
  {
   "cell_type": "code",
   "execution_count": 52,
   "id": "d165baed-be22-407a-805d-9c2e9e20ae21",
   "metadata": {},
   "outputs": [
    {
     "name": "stdout",
     "output_type": "stream",
     "text": [
      "              precision    recall  f1-score   support\n",
      "\n",
      "           0       0.83      0.96      0.89       310\n",
      "           1       0.92      0.84      0.88       310\n",
      "           2       0.94      0.89      0.92       310\n",
      "           3       0.93      0.92      0.93       310\n",
      "\n",
      "    accuracy                           0.90      1240\n",
      "   macro avg       0.91      0.90      0.90      1240\n",
      "weighted avg       0.91      0.90      0.90      1240\n",
      "\n"
     ]
    }
   ],
   "source": [
    "clf = Pipeline([\n",
    "    ('count_vec_unigram',CountVectorizer(ngram_range=(1,1))),\n",
    "    ('Random Forest', RandomForestClassifier())\n",
    "])\n",
    "\n",
    "clf.fit(X1_train,y1_train)\n",
    "y1_predict = clf.predict(X1_test)\n",
    "print(classification_report(y1_test,y1_predict))"
   ]
  },
  {
   "cell_type": "code",
   "execution_count": 97,
   "id": "263e3158-4d23-436a-b486-3161f6c67643",
   "metadata": {},
   "outputs": [
    {
     "name": "stdout",
     "output_type": "stream",
     "text": [
      "              precision    recall  f1-score   support\n",
      "\n",
      "           0       0.79      0.92      0.85       465\n",
      "           1       0.89      0.78      0.83       465\n",
      "           2       0.92      0.88      0.90       465\n",
      "           3       0.91      0.90      0.91       465\n",
      "\n",
      "    accuracy                           0.87      1860\n",
      "   macro avg       0.88      0.87      0.87      1860\n",
      "weighted avg       0.88      0.87      0.87      1860\n",
      "\n"
     ]
    }
   ],
   "source": [
    "clf = Pipeline([\n",
    "    ('count_vec_bigram',CountVectorizer(ngram_range=(1,2))),\n",
    "    ('Random Forest', RandomForestClassifier())\n",
    "])\n",
    "\n",
    "clf.fit(X1_train,y1_train)\n",
    "y1_predict = clf.predict(X1_test)\n",
    "print(classification_report(y1_test,y1_predict))"
   ]
  },
  {
   "cell_type": "code",
   "execution_count": 56,
   "id": "116813d0-b9b3-43d8-9061-da2d187e3f93",
   "metadata": {},
   "outputs": [],
   "source": [
    "from sklearn.feature_extraction.text import TfidfVectorizer"
   ]
  },
  {
   "cell_type": "code",
   "execution_count": 93,
   "id": "7735951b-321b-4220-8151-8d5fe949ad7a",
   "metadata": {},
   "outputs": [
    {
     "name": "stdout",
     "output_type": "stream",
     "text": [
      "              precision    recall  f1-score   support\n",
      "\n",
      "           0       0.76      0.89      0.82       465\n",
      "           1       0.84      0.75      0.80       465\n",
      "           2       0.93      0.86      0.89       465\n",
      "           3       0.92      0.92      0.92       465\n",
      "\n",
      "    accuracy                           0.86      1860\n",
      "   macro avg       0.86      0.86      0.86      1860\n",
      "weighted avg       0.86      0.86      0.86      1860\n",
      "\n"
     ]
    }
   ],
   "source": [
    "clf = Pipeline([\n",
    "    ('tfidvectorizer',TfidfVectorizer()),\n",
    "    ('Random Forest', RandomForestClassifier())\n",
    "])\n",
    "\n",
    "clf.fit(X1_train,y1_train)\n",
    "y1_predict = clf.predict(X1_test)\n",
    "print(classification_report(y1_test,y1_predict))"
   ]
  },
  {
   "cell_type": "code",
   "execution_count": 98,
   "id": "f2cb1139-19f7-4281-820e-1c3a0b75b811",
   "metadata": {},
   "outputs": [
    {
     "data": {
      "text/plain": [
       "array([0, 1, 0, 2], dtype=int64)"
      ]
     },
     "execution_count": 98,
     "metadata": {},
     "output_type": "execute_result"
    }
   ],
   "source": [
    "clf.predict([\"The room filled with laughter as friends embraced, celebrating together.\",\"Alone in the quiet room, tears silently traced her weary cheeks.\",\"His clenched fists trembled with rage as he unleashed fury.\",\"She spat out bitter words, eyes ablaze with seething resentment.\"])"
   ]
  },
  {
   "cell_type": "markdown",
   "id": "2346743a-224c-42dc-aa75-6e1488ec027e",
   "metadata": {},
   "source": [
    "# Use text pre-processing to remove stop words, punctuations and apply lemmatization"
   ]
  },
  {
   "cell_type": "code",
   "execution_count": 76,
   "id": "b3ad3320-5cf2-468d-b184-076cb9a24d85",
   "metadata": {},
   "outputs": [],
   "source": [
    "import spacy\n",
    "nlp = spacy.load(\"en_core_web_sm\") \n",
    "\n",
    "def preprocess(text):\n",
    "    doc = nlp(text)\n",
    "    filtered_tokens = []\n",
    "    for token in doc:\n",
    "        if token.is_punct or token.is_stop:\n",
    "            continue\n",
    "        filtered_tokens.append(token.lemma_)\n",
    "    return \" \".join(filtered_tokens)"
   ]
  },
  {
   "cell_type": "code",
   "execution_count": 77,
   "id": "2023ce47-6f0b-49b9-b464-a03cd378e0e3",
   "metadata": {},
   "outputs": [
    {
     "data": {
      "text/html": [
       "<div>\n",
       "<style scoped>\n",
       "    .dataframe tbody tr th:only-of-type {\n",
       "        vertical-align: middle;\n",
       "    }\n",
       "\n",
       "    .dataframe tbody tr th {\n",
       "        vertical-align: top;\n",
       "    }\n",
       "\n",
       "    .dataframe thead th {\n",
       "        text-align: right;\n",
       "    }\n",
       "</style>\n",
       "<table border=\"1\" class=\"dataframe\">\n",
       "  <thead>\n",
       "    <tr style=\"text-align: right;\">\n",
       "      <th></th>\n",
       "      <th>text</th>\n",
       "      <th>emotion</th>\n",
       "      <th>emotion_num</th>\n",
       "      <th>preprocessed_comment</th>\n",
       "    </tr>\n",
       "  </thead>\n",
       "  <tbody>\n",
       "    <tr>\n",
       "      <th>15478</th>\n",
       "      <td>i want to do with my life is an amazing feelin...</td>\n",
       "      <td>joy</td>\n",
       "      <td>0</td>\n",
       "      <td>want life amazing feeling not pleased future head</td>\n",
       "    </tr>\n",
       "    <tr>\n",
       "      <th>552</th>\n",
       "      <td>i checked on you was a long time ago i can say...</td>\n",
       "      <td>joy</td>\n",
       "      <td>0</td>\n",
       "      <td>check long time ago happy way feel contented</td>\n",
       "    </tr>\n",
       "    <tr>\n",
       "      <th>4021</th>\n",
       "      <td>i should do but i think it means that i should...</td>\n",
       "      <td>joy</td>\n",
       "      <td>0</td>\n",
       "      <td>think mean open opportunity invite involve min...</td>\n",
       "    </tr>\n",
       "    <tr>\n",
       "      <th>13217</th>\n",
       "      <td>i feel the near and lively presence of the wel...</td>\n",
       "      <td>joy</td>\n",
       "      <td>0</td>\n",
       "      <td>feel near lively presence love past</td>\n",
       "    </tr>\n",
       "    <tr>\n",
       "      <th>2784</th>\n",
       "      <td>i am left tonight feeling so hopeful for the f...</td>\n",
       "      <td>joy</td>\n",
       "      <td>0</td>\n",
       "      <td>leave tonight feeling hopeful future orphan cr...</td>\n",
       "    </tr>\n",
       "  </tbody>\n",
       "</table>\n",
       "</div>"
      ],
      "text/plain": [
       "                                                    text emotion  emotion_num  \\\n",
       "15478  i want to do with my life is an amazing feelin...     joy            0   \n",
       "552    i checked on you was a long time ago i can say...     joy            0   \n",
       "4021   i should do but i think it means that i should...     joy            0   \n",
       "13217  i feel the near and lively presence of the wel...     joy            0   \n",
       "2784   i am left tonight feeling so hopeful for the f...     joy            0   \n",
       "\n",
       "                                    preprocessed_comment  \n",
       "15478  want life amazing feeling not pleased future head  \n",
       "552         check long time ago happy way feel contented  \n",
       "4021   think mean open opportunity invite involve min...  \n",
       "13217                feel near lively presence love past  \n",
       "2784   leave tonight feeling hopeful future orphan cr...  "
      ]
     },
     "execution_count": 77,
     "metadata": {},
     "output_type": "execute_result"
    }
   ],
   "source": [
    "df_balanced['preprocessed_comment'] = df_balanced['text'].apply(preprocess)\n",
    "df_balanced.head()"
   ]
  },
  {
   "cell_type": "code",
   "execution_count": 83,
   "id": "ccda301a-f32f-4012-b9f6-e17d3ea8776d",
   "metadata": {},
   "outputs": [],
   "source": [
    "X2_train, X2_test, y2_train, y2_test = train_test_split(\n",
    "    df_balanced.preprocessed_comment,\n",
    "    df_balanced.emotion_num,\n",
    "    test_size=0.2,\n",
    "    stratify=df_balanced.emotion_num,\n",
    "    random_state=2022\n",
    ")"
   ]
  },
  {
   "cell_type": "code",
   "execution_count": 84,
   "id": "900c74eb-0362-4656-bd2c-9767e84fb3d1",
   "metadata": {},
   "outputs": [
    {
     "name": "stdout",
     "output_type": "stream",
     "text": [
      "              precision    recall  f1-score   support\n",
      "\n",
      "           0       0.90      0.91      0.91       310\n",
      "           1       0.86      0.88      0.87       310\n",
      "           2       0.92      0.89      0.91       310\n",
      "           3       0.94      0.93      0.94       310\n",
      "\n",
      "    accuracy                           0.90      1240\n",
      "   macro avg       0.90      0.90      0.90      1240\n",
      "weighted avg       0.90      0.90      0.90      1240\n",
      "\n"
     ]
    }
   ],
   "source": [
    "clf = Pipeline([\n",
    "    ('count_vec_unigram',CountVectorizer(ngram_range=(1,1))),\n",
    "    ('Random Forest', RandomForestClassifier())\n",
    "])\n",
    "\n",
    "clf.fit(X2_train,y2_train)\n",
    "y2_predict = clf.predict(X2_test)\n",
    "print(classification_report(y2_test,y2_predict))"
   ]
  },
  {
   "cell_type": "code",
   "execution_count": 85,
   "id": "e6bab626-ae96-4e03-9d01-002bb063065b",
   "metadata": {},
   "outputs": [
    {
     "name": "stdout",
     "output_type": "stream",
     "text": [
      "              precision    recall  f1-score   support\n",
      "\n",
      "           0       0.92      0.91      0.91       310\n",
      "           1       0.86      0.91      0.88       310\n",
      "           2       0.94      0.90      0.92       310\n",
      "           3       0.92      0.92      0.92       310\n",
      "\n",
      "    accuracy                           0.91      1240\n",
      "   macro avg       0.91      0.91      0.91      1240\n",
      "weighted avg       0.91      0.91      0.91      1240\n",
      "\n"
     ]
    }
   ],
   "source": [
    "clf = Pipeline([\n",
    "    ('count_vec_bigram',CountVectorizer(ngram_range=(1,2))),\n",
    "    ('Random Forest', RandomForestClassifier())\n",
    "])\n",
    "\n",
    "clf.fit(X2_train,y2_train)\n",
    "y2_predict = clf.predict(X2_test)\n",
    "print(classification_report(y2_test,y2_predict))"
   ]
  },
  {
   "cell_type": "code",
   "execution_count": 90,
   "id": "ab7d93bb-a0ab-4975-8e7b-4587a7d95a6d",
   "metadata": {},
   "outputs": [
    {
     "name": "stdout",
     "output_type": "stream",
     "text": [
      "              precision    recall  f1-score   support\n",
      "\n",
      "           0       0.84      0.95      0.89       310\n",
      "           1       0.90      0.84      0.86       310\n",
      "           2       0.92      0.89      0.90       310\n",
      "           3       0.94      0.91      0.93       310\n",
      "\n",
      "    accuracy                           0.90      1240\n",
      "   macro avg       0.90      0.90      0.90      1240\n",
      "weighted avg       0.90      0.90      0.90      1240\n",
      "\n"
     ]
    }
   ],
   "source": [
    "clf = Pipeline([\n",
    "    ('tfid_vectorizer',TfidfVectorizer()),\n",
    "    ('Random Forest', RandomForestClassifier())\n",
    "])\n",
    "\n",
    "clf.fit(X2_train,y2_train)\n",
    "y2_predict = clf.predict(X2_test)\n",
    "print(classification_report(y2_test,y2_predict))"
   ]
  },
  {
   "cell_type": "code",
   "execution_count": 100,
   "id": "9c463cf1-b8ec-4e62-949b-6b1c4959ce67",
   "metadata": {},
   "outputs": [
    {
     "data": {
      "text/plain": [
       "array([0, 1, 0, 2, 2], dtype=int64)"
      ]
     },
     "execution_count": 100,
     "metadata": {},
     "output_type": "execute_result"
    }
   ],
   "source": [
    "clf.predict([\"The room filled with laughter as friends embraced, celebrating together.\",\n",
    "             \"Alone in the quiet room, tears silently traced her weary cheeks.\",\n",
    "             \"His clenched fists trembled with rage as he unleashed fury.\",\n",
    "             \"She spat out bitter words, eyes ablaze with seething resentment.\",\n",
    "            \"I am done with you!\"])"
   ]
  },
  {
   "cell_type": "code",
   "execution_count": null,
   "id": "75318a0f-deac-431e-9fa2-a7f21116014e",
   "metadata": {},
   "outputs": [],
   "source": [
    "# bigram without preprocessing is giving much better result"
   ]
  },
  {
   "cell_type": "code",
   "execution_count": null,
   "id": "0ca6472e-a772-4ed0-b9e1-e129df7d4dd5",
   "metadata": {},
   "outputs": [],
   "source": []
  }
 ],
 "metadata": {
  "kernelspec": {
   "display_name": "Python 3 (ipykernel)",
   "language": "python",
   "name": "python3"
  },
  "language_info": {
   "codemirror_mode": {
    "name": "ipython",
    "version": 3
   },
   "file_extension": ".py",
   "mimetype": "text/x-python",
   "name": "python",
   "nbconvert_exporter": "python",
   "pygments_lexer": "ipython3",
   "version": "3.11.4"
  }
 },
 "nbformat": 4,
 "nbformat_minor": 5
}
